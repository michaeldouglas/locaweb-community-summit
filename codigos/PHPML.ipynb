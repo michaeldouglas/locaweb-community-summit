{
  "nbformat": 4,
  "nbformat_minor": 0,
  "metadata": {
    "colab": {
      "provenance": [],
      "authorship_tag": "ABX9TyOP27Mitt2PgVHvVBBoSLrG",
      "include_colab_link": true
    },
    "kernelspec": {
      "name": "python3",
      "display_name": "Python 3"
    },
    "language_info": {
      "name": "python"
    }
  },
  "cells": [
    {
      "cell_type": "markdown",
      "metadata": {
        "id": "view-in-github",
        "colab_type": "text"
      },
      "source": [
        "<a href=\"https://colab.research.google.com/github/michaeldouglas/locaweb-community-summit/blob/main/codigos/PHPML.ipynb\" target=\"_parent\"><img src=\"https://colab.research.google.com/assets/colab-badge.svg\" alt=\"Open In Colab\"/></a>"
      ]
    },
    {
      "cell_type": "markdown",
      "source": [
        "# Instalação do pacote\n",
        "\n",
        "Por padrão o Google Colab não possui o PHP o padrão é Python. Por esse motivo devemos instalar executando o comando:\n",
        "\n",
        "```bash\n",
        "!apt-get install php\n",
        "```"
      ],
      "metadata": {
        "id": "5kU50XxOeULY"
      }
    },
    {
      "cell_type": "code",
      "execution_count": 1,
      "metadata": {
        "id": "Xy04DMRXeQov",
        "colab": {
          "base_uri": "https://localhost:8080/"
        },
        "outputId": "e00ce32d-398a-4c1b-b9ab-7b77f772da8b"
      },
      "outputs": [
        {
          "output_type": "stream",
          "name": "stdout",
          "text": [
            "Reading package lists... Done\n",
            "Building dependency tree... Done\n",
            "Reading state information... Done\n",
            "php is already the newest version (2:8.1+92ubuntu1).\n",
            "0 upgraded, 0 newly installed, 0 to remove and 16 not upgraded.\n"
          ]
        }
      ],
      "source": [
        "!apt-get install php"
      ]
    },
    {
      "cell_type": "markdown",
      "source": [
        "## Instalação do Composer\n",
        "\n",
        "Assim como não possuimos o PHP o mesmo acontece com o Composer. Para instalar devemos executar:\n",
        "\n",
        "```bash\n",
        "!php -r \"copy('https://getcomposer.org/installer', 'composer-setup.php');\"\n",
        "!php composer-setup.php\n",
        "!php -r \"unlink('composer-setup.php');\"\n",
        "```"
      ],
      "metadata": {
        "id": "-BaFaI33hsKy"
      }
    },
    {
      "cell_type": "code",
      "source": [
        "!php -r \"copy('https://getcomposer.org/installer', 'composer-setup.php');\"\n",
        "!php composer-setup.php\n",
        "!php -r \"unlink('composer-setup.php');\""
      ],
      "metadata": {
        "colab": {
          "base_uri": "https://localhost:8080/"
        },
        "id": "L-9u5dKOh7RM",
        "outputId": "b3192d9e-c2f8-4599-edbb-5230ef5b5863"
      },
      "execution_count": 2,
      "outputs": [
        {
          "output_type": "stream",
          "name": "stdout",
          "text": [
            "\u001b[0;32mAll settings correct for using Composer\u001b[0m\n",
            "\u001b[33;33mDownloading...\u001b[0m\n",
            "\u001b[0;32m\n",
            "Composer (version 2.6.2) successfully installed to: /content/composer.phar\u001b[0m\n",
            "\u001b[33;33mUse it: php composer.phar\u001b[0m\n",
            "\n"
          ]
        }
      ]
    },
    {
      "cell_type": "markdown",
      "source": [
        "# Instalação dos pacotes de exibição dos dados\n",
        "\n",
        "Nós vamos instalar alguns pacotes e deixar o código pronto de uma função para fazer syntax highlight do nosso código."
      ],
      "metadata": {
        "id": "Lzc4KmhLxJ0w"
      }
    },
    {
      "cell_type": "code",
      "source": [
        "# @title instalação dos pacotes\n",
        "import subprocess\n",
        "from IPython.display import HTML"
      ],
      "metadata": {
        "id": "qF0OJhkrxQQe"
      },
      "execution_count": 3,
      "outputs": []
    },
    {
      "cell_type": "code",
      "source": [
        "# @title Código para realizar o nosso syntax highlight\n",
        "def show_result(nome_arquivo_php, dados_para_php=None):\n",
        "    caminho_arquivo = f'/content/locaweb-community-summit/codigos/src/{nome_arquivo_php}'\n",
        "    try:\n",
        "        processo_php = subprocess.Popen(\n",
        "            [\"php\", caminho_arquivo],\n",
        "            stdin=subprocess.PIPE,\n",
        "            stdout=subprocess.PIPE,\n",
        "            stderr=subprocess.PIPE,\n",
        "            text=True\n",
        "        )\n",
        "\n",
        "        if dados_para_php is not None:\n",
        "            # Envie os dados para o PHP através da entrada padrão\n",
        "            stdout, stderr = processo_php.communicate(input=dados_para_php)\n",
        "        else:\n",
        "            # Caso não haja dados para enviar, apenas leia a saída e os erros\n",
        "            stdout, stderr = processo_php.communicate()\n",
        "\n",
        "        if processo_php.returncode == 0:\n",
        "            # Saída bem-sucedida do PHP\n",
        "            html_resultado = stdout\n",
        "            return HTML(html_resultado)\n",
        "        else:\n",
        "            # Erro ao executar o PHP\n",
        "            erro = stderr\n",
        "            return f\"Erro ao executar o arquivo PHP: {erro}\"\n",
        "    except Exception as e:\n",
        "        return str(e)\n"
      ],
      "metadata": {
        "id": "KsoFJhJuxboI"
      },
      "execution_count": 4,
      "outputs": []
    },
    {
      "cell_type": "markdown",
      "source": [
        "# Obter o nosso projeto\n",
        "\n",
        "Agora nós iremos baixar o nosso projeto para o Colab. Para isso então execute:\n",
        "\n",
        "```bash\n",
        "!git clone git@github.com:michaeldouglas/locaweb-community-summit.git\n",
        "```"
      ],
      "metadata": {
        "id": "HkpntuXFiYKN"
      }
    },
    {
      "cell_type": "code",
      "source": [
        "!git clone https://github.com/michaeldouglas/locaweb-community-summit.git"
      ],
      "metadata": {
        "colab": {
          "base_uri": "https://localhost:8080/"
        },
        "id": "9jy1e9FFioiq",
        "outputId": "1183abcf-58d2-42c2-83df-5c74608071be"
      },
      "execution_count": 5,
      "outputs": [
        {
          "output_type": "stream",
          "name": "stdout",
          "text": [
            "fatal: destination path 'locaweb-community-summit' already exists and is not an empty directory.\n"
          ]
        }
      ]
    },
    {
      "cell_type": "code",
      "source": [
        "cd /content/locaweb-community-summit/codigos/"
      ],
      "metadata": {
        "colab": {
          "base_uri": "https://localhost:8080/"
        },
        "id": "RJel4cnwiy66",
        "outputId": "6be1f594-6704-4bde-9564-927db1305907"
      },
      "execution_count": 6,
      "outputs": [
        {
          "output_type": "stream",
          "name": "stdout",
          "text": [
            "/content/locaweb-community-summit/codigos\n"
          ]
        }
      ]
    },
    {
      "cell_type": "code",
      "source": [
        "ls -la"
      ],
      "metadata": {
        "colab": {
          "base_uri": "https://localhost:8080/"
        },
        "id": "bpLzktmyi27a",
        "outputId": "ef9abf86-0279-4895-f78b-262c32a2abd2"
      },
      "execution_count": 7,
      "outputs": [
        {
          "output_type": "stream",
          "name": "stdout",
          "text": [
            "total 36\n",
            "drwxr-xr-x 4 root root  4096 Sep  9 17:01 \u001b[0m\u001b[01;34m.\u001b[0m/\n",
            "drwxr-xr-x 6 root root  4096 Sep  9 20:49 \u001b[01;34m..\u001b[0m/\n",
            "drwxr-xr-x 2 root root  4096 Sep  9 20:10 \u001b[01;34mdataset\u001b[0m/\n",
            "-rw-r--r-- 1 root root 17676 Sep  9 17:01 PHPML.ipynb\n",
            "drwxr-xr-x 3 root root  4096 Sep  9 21:06 \u001b[01;34msrc\u001b[0m/\n"
          ]
        }
      ]
    },
    {
      "cell_type": "code",
      "source": [
        "cd /content/locaweb-community-summit"
      ],
      "metadata": {
        "colab": {
          "base_uri": "https://localhost:8080/"
        },
        "id": "0kM2tNMIkA1L",
        "outputId": "3a1b342e-3110-4c78-e78a-46d18b0110ac"
      },
      "execution_count": 8,
      "outputs": [
        {
          "output_type": "stream",
          "name": "stdout",
          "text": [
            "/content/locaweb-community-summit\n"
          ]
        }
      ]
    },
    {
      "cell_type": "markdown",
      "source": [
        "# Análise inicial do nosso Dataset\n",
        "\n",
        "A seguir nós vamos visualizar os dados do nosso dataset e também realizar algumas análises para tomar a decisão do nosso modelo."
      ],
      "metadata": {
        "id": "uoEK0D1Fwdgm"
      }
    },
    {
      "cell_type": "code",
      "source": [
        "# @title Exibir os dados do nosso dataset\n",
        "show_result('importacaoDados.php')"
      ],
      "metadata": {
        "colab": {
          "base_uri": "https://localhost:8080/",
          "height": 470
        },
        "id": "7BWR8howv4i8",
        "outputId": "3a67ffe7-0e6a-43a7-a4bb-8205bec7b326"
      },
      "execution_count": 9,
      "outputs": [
        {
          "output_type": "execute_result",
          "data": {
            "text/plain": [
              "<IPython.core.display.HTML object>"
            ],
            "text/html": [
              "<center><img src='https://php.locaweb.com.br/wp-content/themes/locaweb-php-community-2023/svg/logo.svg' alt='php-community-2023' /><center><br /><table style=\"border-collapse: collapse; border-spacing: 0; border: 1px solid black; width: 100%;\"><tr style=\"border: 1px solid black; background-color: #f2f2f2; color: #000;\"><th style=\"border: 1px solid black; padding: 8px;\">NOME</th><th style=\"border: 1px solid black; padding: 8px;\">IDADE</th><th style=\"border: 1px solid black; padding: 8px;\">ESTADO</th><th style=\"border: 1px solid black; padding: 8px;\">CIDADE</th><th style=\"border: 1px solid black; padding: 8px;\">VOLTARIA_NO_EVENTO</th></tr><tr style=\"border: 1px solid black;\"><td style=\"border: 1px solid black; padding: 8px;\">Miguel Araujo</td><td style=\"border: 1px solid black; padding: 8px;\">20</td><td style=\"border: 1px solid black; padding: 8px;\">SAO_PAULO</td><td style=\"border: 1px solid black; padding: 8px;\">SAO_PAULO</td><td style=\"border: 1px solid black; padding: 8px;\">NAO</td></tr><tr style=\"border: 1px solid black;\"><td style=\"border: 1px solid black; padding: 8px;\">Levina Passos</td><td style=\"border: 1px solid black; padding: 8px;\">22</td><td style=\"border: 1px solid black; padding: 8px;\">MINAS_GERAIS</td><td style=\"border: 1px solid black; padding: 8px;\">BELO_HORIZONTE</td><td style=\"border: 1px solid black; padding: 8px;\">NAO</td></tr><tr style=\"border: 1px solid black;\"><td style=\"border: 1px solid black; padding: 8px;\">Fernanda Passos</td><td style=\"border: 1px solid black; padding: 8px;\">16</td><td style=\"border: 1px solid black; padding: 8px;\">MINAS_GERAIS</td><td style=\"border: 1px solid black; padding: 8px;\">BELO_HORIZONTE</td><td style=\"border: 1px solid black; padding: 8px;\">NAO</td></tr><tr style=\"border: 1px solid black;\"><td style=\"border: 1px solid black; padding: 8px;\">Fernanda Passos</td><td style=\"border: 1px solid black; padding: 8px;\">16</td><td style=\"border: 1px solid black; padding: 8px;\">MINAS_GERAIS</td><td style=\"border: 1px solid black; padding: 8px;\">BELO_HORIZONTE</td><td style=\"border: 1px solid black; padding: 8px;\">NAO</td></tr><tr style=\"border: 1px solid black;\"><td style=\"border: 1px solid black; padding: 8px;\">Maria Silvania</td><td style=\"border: 1px solid black; padding: 8px;\">30</td><td style=\"border: 1px solid black; padding: 8px;\">SAO_PAULO</td><td style=\"border: 1px solid black; padding: 8px;\">JUNDIAI</td><td style=\"border: 1px solid black; padding: 8px;\">SIM</td></tr></table>"
            ]
          },
          "metadata": {},
          "execution_count": 9
        }
      ]
    },
    {
      "cell_type": "markdown",
      "source": [
        "### Dicionário dos dados\n",
        "\n",
        "Vamos aqui descrever o nosso dicionário de dados do evento:\n",
        "\n",
        "*   **Nome** - Contém a informação do *nome* do participante.\n",
        "*   **Idade** - Contém a informação de *idade* do participante.\n",
        "*   **Estado** - Contém a informação do *estado* do participante.\n",
        "*   **Cidade** - Contém a informação da *cidade* do participante.\n",
        "*   **Voltaria no evento** - Variável **target** para o nosso **modelo preditivo**.\n",
        "\n",
        "### Escolha da variável target\n",
        "Como a ideia é informar se um participante retornaria ou não ao evento nós definimos como varíavel **alvo(target)** a coluna **voltaria_no_evento**"
      ],
      "metadata": {
        "id": "YJtgtjbW8qFv"
      }
    },
    {
      "cell_type": "markdown",
      "source": [
        "### Total de participantes\n",
        "\n",
        "Vamos agora analisar o total de participantes do evento"
      ],
      "metadata": {
        "id": "ytlb8n_A-nmY"
      }
    },
    {
      "cell_type": "code",
      "source": [
        "show_result('TotalParticipantes.php')"
      ],
      "metadata": {
        "colab": {
          "base_uri": "https://localhost:8080/",
          "height": 87
        },
        "id": "7ecbvSn-9PDJ",
        "outputId": "55286c61-2102-4092-e1d6-a853b478cb6a"
      },
      "execution_count": 10,
      "outputs": [
        {
          "output_type": "execute_result",
          "data": {
            "text/plain": [
              "<IPython.core.display.HTML object>"
            ],
            "text/html": [
              "<table style=\"border-collapse: collapse; border-spacing: 0; border: 1px solid black; width: 100%;\"><tr style=\"border: 1px solid black; background-color: #f2f2f2; color: #000;\">\n",
              "<th style=\"border: 1px solid black; padding: 8px;\">Total de participantes</th>\n",
              "<th style=\"border: 1px solid black; padding: 8px;\">Total voltaria no evento</th>\n",
              "<th style=\"border: 1px solid black; padding: 8px;\">Total não voltaria no evento</th>\n",
              "</tr><tr style=\"border: 1px solid black;\">\n",
              "  <td style=\"border: 1px solid black; padding: 8px;\">13</td>\n",
              "  <td style=\"border: 1px solid black; padding: 8px;\">9</td>\n",
              "  <td style=\"border: 1px solid black; padding: 8px;\">4</td>\n",
              "</tr></table>"
            ]
          },
          "metadata": {},
          "execution_count": 10
        }
      ]
    },
    {
      "cell_type": "markdown",
      "source": [
        "# Obter a média de participantes do evento\n",
        "\n",
        "Agora que já realizamos a análise inicial do nosso dataset podemos então realizar uma análise como base na média em nossas amostras. O nosso foco será a variáevel target de retorno ao evento e a partir disso saberemos a média de participantes que gostariam de retornar ao evento."
      ],
      "metadata": {
        "id": "CqkuuXSxCIut"
      }
    },
    {
      "cell_type": "code",
      "source": [
        "show_result('MediaParticipantes.php')"
      ],
      "metadata": {
        "colab": {
          "base_uri": "https://localhost:8080/",
          "height": 87
        },
        "id": "7JLuAcreCaUf",
        "outputId": "ede6287e-f698-4163-9d25-e268dfd1bcaf"
      },
      "execution_count": 11,
      "outputs": [
        {
          "output_type": "execute_result",
          "data": {
            "text/plain": [
              "<IPython.core.display.HTML object>"
            ],
            "text/html": [
              "<table style=\"border-collapse: collapse; border-spacing: 0; border: 1px solid black; width: 100%;\"><tr style=\"border: 1px solid black; background-color: #f2f2f2; color: #000;\">\n",
              "<th style=\"border: 1px solid black; padding: 8px;\">Média (Frequência de [sim])</th>\n",
              "<th style=\"border: 1px solid black; padding: 8px;\">Média (Frequência de [nao])</th>\n",
              "</tr><tr style=\"border: 1px solid black;\">\n",
              "    <td style=\"border: 1px solid black; padding: 8px;\">69.23%</td>\n",
              "    <td style=\"border: 1px solid black; padding: 8px;\">30.77%</td>\n",
              "    </tr></table>"
            ]
          },
          "metadata": {},
          "execution_count": 11
        }
      ]
    },
    {
      "cell_type": "markdown",
      "source": [
        "# Plot dos gráficos\n",
        "\n",
        "Faremos aqui alguns plots de gráfocps que são formas eficazes de de visualizar dados. Eles tornam os padrões e tendências de dados mais evidentes, permitindo que sejamos capazes de identificar insights e informações valiosas."
      ],
      "metadata": {
        "id": "DrLvLSfRMihA"
      }
    },
    {
      "cell_type": "code",
      "source": [
        "show_result('Plots.php')"
      ],
      "metadata": {
        "colab": {
          "base_uri": "https://localhost:8080/",
          "height": 957
        },
        "id": "b_7TZeIl7EIn",
        "outputId": "17a0afb8-633c-4581-e756-2f3b4831a726"
      },
      "execution_count": 12,
      "outputs": [
        {
          "output_type": "execute_result",
          "data": {
            "text/plain": [
              "<IPython.core.display.HTML object>"
            ],
            "text/html": [
              "\n",
              "<!DOCTYPE html>\n",
              "<html>\n",
              "<head>\n",
              "    <title>Gráfico de Contagem e Boxplots</title>\n",
              "    <script src='https://cdn.plot.ly/plotly-2.25.2.min.js'></script>\n",
              "    <style>\n",
              "        .graph-container {\n",
              "            display: flex;\n",
              "            flex-wrap: wrap; /* Permite que os gráficos sejam distribuídos em várias linhas */\n",
              "        }\n",
              "\n",
              "        .graph {\n",
              "            flex: 1;\n",
              "            margin: 10px; /* Espaçamento entre os gráficos */\n",
              "            box-sizing: border-box; /* Considera a margem no tamanho total */\n",
              "        }\n",
              "\n",
              "        .graph-full {\n",
              "            flex: 2; /* Ocupa duas vezes o espaço horizontal */\n",
              "        }\n",
              "    </style>\n",
              "</head>\n",
              "<body>\n",
              "    <div class='graph-container'>\n",
              "        <div class='graph' id='myDiv'></div>\n",
              "        <div class='graph' id='totalDiv'></div>\n",
              "    </div>\n",
              "    <div class='graph-container'>\n",
              "\n",
              "        <div class='graph graph-full' id='pie1'></div>\n",
              "        <div class='graph graph-full' id='pie2'></div>\n",
              "    </div>\n",
              "\n",
              "    <script>\n",
              "\n",
              "        // Código JavaScript para criar os gráficos de barras (já existentes)\n",
              "        var x = [\"Voltaria\", \"Não Voltaria\"];\n",
              "        var y = [9, 4];\n",
              "\n",
              "        var data = [\n",
              "          {\n",
              "            x: x,\n",
              "            y: y,\n",
              "            type: \"bar\",\n",
              "            text: y.map(String),\n",
              "            textposition: 'auto',\n",
              "            hoverinfo: 'y+text',\n",
              "            marker: {\n",
              "                color: ['green', 'red']\n",
              "            }\n",
              "          }\n",
              "        ];\n",
              "\n",
              "        var layout = {\n",
              "            title: 'Contagem de Participantes',\n",
              "            xaxis: {\n",
              "                title: 'Resposta',\n",
              "            },\n",
              "            yaxis: {\n",
              "                title: 'Contagem',\n",
              "            },\n",
              "            font: {\n",
              "                size: 16 // Tamanho da fonte dos rótulos das barras\n",
              "            }\n",
              "        };\n",
              "\n",
              "        Plotly.newPlot('myDiv', data, layout);\n",
              "\n",
              "        // Totais de SP, MG e RJ (substitua com os valores reais)\n",
              "        var totalSP = 7;\n",
              "        var totalMG = 3;\n",
              "        var totalRJ = 3;\n",
              "\n",
              "        var dataTotal = [\n",
              "          {\n",
              "            x: [\"SP\", \"MG\", \"RJ\"],\n",
              "            y: [totalSP, totalMG, totalRJ],\n",
              "            type: \"bar\",\n",
              "            text: [totalSP, totalMG, totalRJ],\n",
              "            textposition: 'inside',\n",
              "            hoverinfo: 'none',\n",
              "            marker: {\n",
              "                color: ['blue', 'orange', 'purple']\n",
              "            }\n",
              "          }\n",
              "        ];\n",
              "\n",
              "        var layoutTotal = {\n",
              "            title: 'Total de participantes por Estado',\n",
              "            xaxis: {\n",
              "                title: 'Estado',\n",
              "                tickvals: [0, 1, 2],\n",
              "                ticktext: [\"SP\", \"MG\", \"RJ\"],\n",
              "            },\n",
              "            yaxis: {\n",
              "                title: 'Total',\n",
              "            },\n",
              "            font: {\n",
              "                size: 16\n",
              "            }\n",
              "        };\n",
              "\n",
              "        Plotly.newPlot('totalDiv', dataTotal, layoutTotal);\n",
              "\n",
              "        // Pies\n",
              "        var data = [{\n",
              "          values: [9, 4],\n",
              "          labels: [\"Voltaria\", \"Não Voltaria\"],\n",
              "          type: 'pie'\n",
              "        }];\n",
              "\n",
              "        Plotly.newPlot('pie1', data, {\n",
              "          title: 'Contagem de Participantes',\n",
              "        });\n",
              "\n",
              "        var data = [{\n",
              "          values: [totalSP, totalMG, totalRJ],\n",
              "          labels: [\"SP\", \"MG\", \"RJ\"],\n",
              "          type: 'pie'\n",
              "        }];\n",
              "\n",
              "        \n",
              "        Plotly.newPlot('pie2', data, {\n",
              "          title: 'Participantes por estado',\n",
              "        });\n",
              "    </script>\n",
              "</body>\n",
              "</html>\n"
            ]
          },
          "metadata": {},
          "execution_count": 12
        }
      ]
    },
    {
      "cell_type": "markdown",
      "source": [
        "# Realizando o nosso algoritmo de predição\n",
        "\n",
        "Agora faremos então o nosso algoritmo de predição que será capaz de determinar se um participante retornaria ou não ao evento."
      ],
      "metadata": {
        "id": "AWiJ2UiANF_7"
      }
    },
    {
      "cell_type": "code",
      "source": [
        "#@title Instalação do nosso pacote php-ml\n",
        "!php /content/composer.phar require php-ai/php-ml"
      ],
      "metadata": {
        "colab": {
          "base_uri": "https://localhost:8080/"
        },
        "id": "Uap3C-PXR3v0",
        "outputId": "6a093d75-db43-454a-ffb9-af0827fb1627"
      },
      "execution_count": 13,
      "outputs": [
        {
          "output_type": "stream",
          "name": "stdout",
          "text": [
            "\u001b[32mInfo from https://repo.packagist.org: \u001b[37;44m#StandWith\u001b[30;43mUkraine\u001b[0m\u001b[39m\n",
            "\u001b[32m./composer.json has been updated\u001b[39m\n",
            "\u001b[32mRunning composer update php-ai/php-ml\u001b[39m\n",
            "\u001b[32mLoading composer repositories with package information\u001b[39m\n",
            "\u001b[32mUpdating dependencies\u001b[39m\n",
            "Nothing to modify in lock file\n",
            "\u001b[32mWriting lock file\u001b[39m\n",
            "\u001b[32mInstalling dependencies from lock file (including require-dev)\u001b[39m\n",
            "Nothing to install, update or remove\n",
            "\u001b[32mGenerating autoload files\u001b[39m\n",
            "\u001b[32mNo security vulnerability advisories found\u001b[39m\n",
            "Using version \u001b[32m^0.10.0\u001b[39m for \u001b[32mphp-ai/php-ml\u001b[39m\n"
          ]
        }
      ]
    },
    {
      "cell_type": "code",
      "source": [
        "show_result('AmostrasETargets.php')"
      ],
      "metadata": {
        "colab": {
          "base_uri": "https://localhost:8080/",
          "height": 499
        },
        "id": "pAQEIClURmHm",
        "outputId": "34775b61-24fc-4fbc-85c3-b7f785436b32"
      },
      "execution_count": 14,
      "outputs": [
        {
          "output_type": "execute_result",
          "data": {
            "text/plain": [
              "<IPython.core.display.HTML object>"
            ],
            "text/html": [
              "\n",
              "\n",
              "<!DOCTYPE html>\n",
              "<html>\n",
              "<head>\n",
              "    <title>Dataset</title>\n",
              "    <style>\n",
              "        /* Estilo para tornar a tabela responsiva */\n",
              "        table {\n",
              "            width: 100%;\n",
              "            border-collapse: collapse;\n",
              "            border: 1px solid #000; /* Adicionar borda à tabela */\n",
              "        }\n",
              "\n",
              "        /* Estilo para alternar cores das linhas */\n",
              "        tr:nth-child(even) {\n",
              "            background-color: #f2f2f2;\n",
              "            color: black;\n",
              "        }\n",
              "\n",
              "        /* Estilo para os cabeçalhos com cores diferentes */\n",
              "        th {\n",
              "            background-color: #f2f2f2;\n",
              "            color: black;\n",
              "        }\n",
              "\n",
              "        /* Estilo para as células da tabela */\n",
              "        td, th {\n",
              "            padding: 8px;\n",
              "            border: 1px solid #000;\n",
              "            text-align: left;\n",
              "        }\n",
              "    </style>\n",
              "</head>\n",
              "<body>\n",
              "\n",
              "<table>\n",
              "    <tr>\n",
              "        <th>Amostra</th>\n",
              "        <th>Variavel target</th>\n",
              "    </tr>\n",
              "        <tr>\n",
              "        <td>Miguel Araujo, 20, SAO_PAULO, SAO_PAULO</td>\n",
              "        <td>NAO</td>\n",
              "    </tr>\n",
              "        <tr>\n",
              "        <td>Levina Passos, 22, MINAS_GERAIS, BELO_HORIZONTE</td>\n",
              "        <td>NAO</td>\n",
              "    </tr>\n",
              "        <tr>\n",
              "        <td>Fernanda Passos, 16, MINAS_GERAIS, BELO_HORIZONTE</td>\n",
              "        <td>NAO</td>\n",
              "    </tr>\n",
              "        <tr>\n",
              "        <td>Fernanda Passos, 16, MINAS_GERAIS, BELO_HORIZONTE</td>\n",
              "        <td>NAO</td>\n",
              "    </tr>\n",
              "        <tr>\n",
              "        <td>Maria Silvania, 30, SAO_PAULO, JUNDIAI</td>\n",
              "        <td>SIM</td>\n",
              "    </tr>\n",
              "        <tr>\n",
              "        <td>Maria Silvania, 30, SAO_PAULO, JUNDIAI</td>\n",
              "        <td>SIM</td>\n",
              "    </tr>\n",
              "        <tr>\n",
              "        <td>Pedro Paulo, 30, SAO_PAULO, JUNDIAI</td>\n",
              "        <td>SIM</td>\n",
              "    </tr>\n",
              "        <tr>\n",
              "        <td>Paulo Barbosa, 35, SAO_PAULO, JUNDIAI</td>\n",
              "        <td>SIM</td>\n",
              "    </tr>\n",
              "        <tr>\n",
              "        <td>Paulo Barbosa, 35, SAO_PAULO, SAO_PAULO</td>\n",
              "        <td>SIM</td>\n",
              "    </tr>\n",
              "        <tr>\n",
              "        <td>Paulo Fernando, 30, SAO_PAULO, JUNDIAI</td>\n",
              "        <td>SIM</td>\n",
              "    </tr>\n",
              "        <tr>\n",
              "        <td>Mariana Passos, 40, RIO_JANEIRO, RIO_JANEIRO</td>\n",
              "        <td>SIM</td>\n",
              "    </tr>\n",
              "        <tr>\n",
              "        <td>Biana Almeida, 31, RIO_JANEIRO, RIO_JANEIRO</td>\n",
              "        <td>SIM</td>\n",
              "    </tr>\n",
              "        <tr>\n",
              "        <td>Biana Freitas, 19, RIO_JANEIRO, RIO_JANEIRO</td>\n",
              "        <td>SIM</td>\n",
              "    </tr>\n",
              "    </table>\n",
              "\n",
              "</body>\n",
              "</html>"
            ]
          },
          "metadata": {},
          "execution_count": 14
        }
      ]
    },
    {
      "cell_type": "code",
      "source": [
        "show_result('Predict.php')"
      ],
      "metadata": {
        "colab": {
          "base_uri": "https://localhost:8080/",
          "height": 948
        },
        "id": "jtGXYU37kT8b",
        "outputId": "3804f2ee-3c34-489c-8e1e-67db0a35b412"
      },
      "execution_count": 15,
      "outputs": [
        {
          "output_type": "execute_result",
          "data": {
            "text/plain": [
              "<IPython.core.display.HTML object>"
            ],
            "text/html": [
              "\n",
              "\n",
              "<!DOCTYPE html>\n",
              "<html>\n",
              "<head>\n",
              "    <title>Resultados</title>\n",
              "    <style>\n",
              "        /* Estilo para tornar a tabela responsiva */\n",
              "        table {\n",
              "            width: 100%;\n",
              "            border-collapse: collapse;\n",
              "            border: 1px solid #000; /* Adicionar borda à tabela */\n",
              "        }\n",
              "\n",
              "        /* Estilo para alternar cores das linhas */\n",
              "        tr:nth-child(even) {\n",
              "            background-color: #f2f2f2;\n",
              "            color: black;\n",
              "        }\n",
              "\n",
              "        /* Estilo para os cabeçalhos com cores diferentes */\n",
              "        th {\n",
              "            background-color: #f2f2f2;\n",
              "            color: black;\n",
              "        }\n",
              "\n",
              "        /* Estilo para as células da tabela */\n",
              "        td, th {\n",
              "            padding: 8px;\n",
              "            border: 1px solid #000;\n",
              "            text-align: left;\n",
              "        }\n",
              "        .green {\n",
              "          color: green;\n",
              "          font-weight: bold;\n",
              "        }\n",
              "        .red {\n",
              "          color: red;\n",
              "          font-weight: bold;\n",
              "        }\n",
              "        .justify {\n",
              "          align-items: center;\n",
              "          display: flex;\n",
              "        }\n",
              "        .justify i {\n",
              "          margin-left: 0.3rem;\n",
              "        }\n",
              "    </style>\n",
              "    <link\n",
              "  rel=\"stylesheet\"\n",
              "  href=\"https://fonts.googleapis.com/icon?family=Material+Icons\"\n",
              "/>\n",
              "</head>\n",
              "<body>\n",
              "    <div style=\"text-align: center;\"><img src='https://php.locaweb.com.br/wp-content/themes/locaweb-php-community-2023/svg/logo.svg' alt='php-community-2023' /><div><br />\n",
              "    <table border=\"1\">\n",
              "        <tr>\n",
              "            <th>Idade</th>\n",
              "            <th>Estado</th>\n",
              "            <th>Cidade</th>\n",
              "            <th>Resultado</th>\n",
              "        </tr>\n",
              "\n",
              "        <!-- Exiba as previsões em uma tabela HTML -->\n",
              "                                <tr>\n",
              "                <td class=\"red\">20</td>\n",
              "                <td class=\"red\">SAO_PAULO</td>\n",
              "                <td class=\"red\">SAO_PAULO</td>\n",
              "                <td class=\"red\">\n",
              "                  <div class=\"justify\">\n",
              "                    Não retornaria ao evento <i class=\"material-icons\">block</i>\n",
              "                  </div>\n",
              "                </td>\n",
              "            </tr>\n",
              "                                <tr>\n",
              "                <td class=\"red\">22</td>\n",
              "                <td class=\"red\">MINAS_GERAIS</td>\n",
              "                <td class=\"red\">BELO_HORIZONTE</td>\n",
              "                <td class=\"red\">\n",
              "                  <div class=\"justify\">\n",
              "                    Não retornaria ao evento <i class=\"material-icons\">block</i>\n",
              "                  </div>\n",
              "                </td>\n",
              "            </tr>\n",
              "                                <tr>\n",
              "                <td class=\"green\">16</td>\n",
              "                <td class=\"green\">MINAS_GERAIS</td>\n",
              "                <td class=\"green\">BELO_HORIZONTE</td>\n",
              "                <td class=\"green\">\n",
              "                  <div class=\"justify\">\n",
              "                    Retornaria ao evento <i class=\"material-icons\">check</i>\n",
              "                  </div>\n",
              "                </td>\n",
              "            </tr>\n",
              "                                <tr>\n",
              "                <td class=\"red\">16</td>\n",
              "                <td class=\"red\">MINAS_GERAIS</td>\n",
              "                <td class=\"red\">BELO_HORIZONTE</td>\n",
              "                <td class=\"red\">\n",
              "                  <div class=\"justify\">\n",
              "                    Não retornaria ao evento <i class=\"material-icons\">block</i>\n",
              "                  </div>\n",
              "                </td>\n",
              "            </tr>\n",
              "                                <tr>\n",
              "                <td class=\"green\">30</td>\n",
              "                <td class=\"green\">SAO_PAULO</td>\n",
              "                <td class=\"green\">JUNDIAI</td>\n",
              "                <td class=\"green\">\n",
              "                  <div class=\"justify\">\n",
              "                    Retornaria ao evento <i class=\"material-icons\">check</i>\n",
              "                  </div>\n",
              "                </td>\n",
              "            </tr>\n",
              "                                <tr>\n",
              "                <td class=\"green\">30</td>\n",
              "                <td class=\"green\">SAO_PAULO</td>\n",
              "                <td class=\"green\">JUNDIAI</td>\n",
              "                <td class=\"green\">\n",
              "                  <div class=\"justify\">\n",
              "                    Retornaria ao evento <i class=\"material-icons\">check</i>\n",
              "                  </div>\n",
              "                </td>\n",
              "            </tr>\n",
              "                                <tr>\n",
              "                <td class=\"green\">30</td>\n",
              "                <td class=\"green\">SAO_PAULO</td>\n",
              "                <td class=\"green\">JUNDIAI</td>\n",
              "                <td class=\"green\">\n",
              "                  <div class=\"justify\">\n",
              "                    Retornaria ao evento <i class=\"material-icons\">check</i>\n",
              "                  </div>\n",
              "                </td>\n",
              "            </tr>\n",
              "                                <tr>\n",
              "                <td class=\"red\">35</td>\n",
              "                <td class=\"red\">SAO_PAULO</td>\n",
              "                <td class=\"red\">JUNDIAI</td>\n",
              "                <td class=\"red\">\n",
              "                  <div class=\"justify\">\n",
              "                    Não retornaria ao evento <i class=\"material-icons\">block</i>\n",
              "                  </div>\n",
              "                </td>\n",
              "            </tr>\n",
              "                                <tr>\n",
              "                <td class=\"green\">35</td>\n",
              "                <td class=\"green\">SAO_PAULO</td>\n",
              "                <td class=\"green\">SAO_PAULO</td>\n",
              "                <td class=\"green\">\n",
              "                  <div class=\"justify\">\n",
              "                    Retornaria ao evento <i class=\"material-icons\">check</i>\n",
              "                  </div>\n",
              "                </td>\n",
              "            </tr>\n",
              "                                <tr>\n",
              "                <td class=\"green\">30</td>\n",
              "                <td class=\"green\">SAO_PAULO</td>\n",
              "                <td class=\"green\">JUNDIAI</td>\n",
              "                <td class=\"green\">\n",
              "                  <div class=\"justify\">\n",
              "                    Retornaria ao evento <i class=\"material-icons\">check</i>\n",
              "                  </div>\n",
              "                </td>\n",
              "            </tr>\n",
              "                                <tr>\n",
              "                <td class=\"green\">40</td>\n",
              "                <td class=\"green\">RIO_JANEIRO</td>\n",
              "                <td class=\"green\">RIO_JANEIRO</td>\n",
              "                <td class=\"green\">\n",
              "                  <div class=\"justify\">\n",
              "                    Retornaria ao evento <i class=\"material-icons\">check</i>\n",
              "                  </div>\n",
              "                </td>\n",
              "            </tr>\n",
              "                                <tr>\n",
              "                <td class=\"green\">31</td>\n",
              "                <td class=\"green\">RIO_JANEIRO</td>\n",
              "                <td class=\"green\">RIO_JANEIRO</td>\n",
              "                <td class=\"green\">\n",
              "                  <div class=\"justify\">\n",
              "                    Retornaria ao evento <i class=\"material-icons\">check</i>\n",
              "                  </div>\n",
              "                </td>\n",
              "            </tr>\n",
              "                                <tr>\n",
              "                <td class=\"green\">19</td>\n",
              "                <td class=\"green\">RIO_JANEIRO</td>\n",
              "                <td class=\"green\">RIO_JANEIRO</td>\n",
              "                <td class=\"green\">\n",
              "                  <div class=\"justify\">\n",
              "                    Retornaria ao evento <i class=\"material-icons\">check</i>\n",
              "                  </div>\n",
              "                </td>\n",
              "            </tr>\n",
              "            </table>\n",
              "    <h2>Resultado final</h2>\n",
              "    <table border=\"1\">\n",
              "      <tr>\n",
              "        <th>Precisão do modelo</th>\n",
              "        <th>Modelo gerado com sucesso</th>\n",
              "      </tr>\n",
              "      <tr>\n",
              "        <td>84.62%</td>\n",
              "        <td>\n",
              "          Modelo gerado: modelo_regressao_logistica.pkl\n",
              "        </td>\n",
              "      </tr>\n",
              "    </table>\n",
              "\n",
              "    <!-- Resto do seu código HTML -->\n",
              "</body>\n",
              "</html>"
            ]
          },
          "metadata": {},
          "execution_count": 15
        }
      ]
    },
    {
      "cell_type": "markdown",
      "source": [
        "# Baixar o nosso modelo gerado\n",
        "\n",
        "Agora nós vamos baixar o nosso modelo gerado que é o arquivo alvo para execução do nosso projeto de predição do evento."
      ],
      "metadata": {
        "id": "l7G8dGzVldJY"
      }
    },
    {
      "cell_type": "code",
      "source": [
        "from google.colab import files\n",
        "\n",
        "# Caminho para o arquivo que você deseja disponibilizar para download\n",
        "caminho_arquivo = '/content/locaweb-community-summit/codigos/src/modelos/modelo_regressao_logistica.pkl'\n",
        "\n",
        "# Crie um link de download para o arquivo\n",
        "files.download(caminho_arquivo)"
      ],
      "metadata": {
        "colab": {
          "base_uri": "https://localhost:8080/",
          "height": 17
        },
        "id": "cK1RI25YlV8X",
        "outputId": "5602074d-ad27-4829-de10-886c6028f107"
      },
      "execution_count": 16,
      "outputs": [
        {
          "output_type": "display_data",
          "data": {
            "text/plain": [
              "<IPython.core.display.Javascript object>"
            ],
            "application/javascript": [
              "\n",
              "    async function download(id, filename, size) {\n",
              "      if (!google.colab.kernel.accessAllowed) {\n",
              "        return;\n",
              "      }\n",
              "      const div = document.createElement('div');\n",
              "      const label = document.createElement('label');\n",
              "      label.textContent = `Downloading \"${filename}\": `;\n",
              "      div.appendChild(label);\n",
              "      const progress = document.createElement('progress');\n",
              "      progress.max = size;\n",
              "      div.appendChild(progress);\n",
              "      document.body.appendChild(div);\n",
              "\n",
              "      const buffers = [];\n",
              "      let downloaded = 0;\n",
              "\n",
              "      const channel = await google.colab.kernel.comms.open(id);\n",
              "      // Send a message to notify the kernel that we're ready.\n",
              "      channel.send({})\n",
              "\n",
              "      for await (const message of channel.messages) {\n",
              "        // Send a message to notify the kernel that we're ready.\n",
              "        channel.send({})\n",
              "        if (message.buffers) {\n",
              "          for (const buffer of message.buffers) {\n",
              "            buffers.push(buffer);\n",
              "            downloaded += buffer.byteLength;\n",
              "            progress.value = downloaded;\n",
              "          }\n",
              "        }\n",
              "      }\n",
              "      const blob = new Blob(buffers, {type: 'application/binary'});\n",
              "      const a = document.createElement('a');\n",
              "      a.href = window.URL.createObjectURL(blob);\n",
              "      a.download = filename;\n",
              "      div.appendChild(a);\n",
              "      a.click();\n",
              "      div.remove();\n",
              "    }\n",
              "  "
            ]
          },
          "metadata": {}
        },
        {
          "output_type": "display_data",
          "data": {
            "text/plain": [
              "<IPython.core.display.Javascript object>"
            ],
            "application/javascript": [
              "download(\"download_590c09b0-f307-4d66-bfee-999f8eea427d\", \"modelo_regressao_logistica.pkl\", 6832)"
            ]
          },
          "metadata": {}
        }
      ]
    },
    {
      "cell_type": "markdown",
      "source": [
        "# Executar o nosso modelo\n",
        "\n",
        "Agora finalizamos os nossos exemplos com um script que é capaz de executar o nosso modelo gerado anteriormente que é: **modelo_regressao_logistica.pkl**"
      ],
      "metadata": {
        "id": "bvBlqR-5mIXg"
      }
    },
    {
      "cell_type": "code",
      "source": [
        "show_result('ExecucaoModelo.php')"
      ],
      "metadata": {
        "colab": {
          "base_uri": "https://localhost:8080/",
          "height": 585
        },
        "id": "nZkGXq6OmQ5S",
        "outputId": "e1e212fc-a543-4c76-e663-9403d281578d"
      },
      "execution_count": 17,
      "outputs": [
        {
          "output_type": "execute_result",
          "data": {
            "text/plain": [
              "<IPython.core.display.HTML object>"
            ],
            "text/html": [
              "\n",
              "<!DOCTYPE html>\n",
              "<html>\n",
              "<head>\n",
              "    <title>Resultados</title>\n",
              "    <style>\n",
              "        /* Estilo para tornar a tabela responsiva */\n",
              "        table {\n",
              "            width: 100%;\n",
              "            border-collapse: collapse;\n",
              "            border: 1px solid #000; /* Adicionar borda à tabela */\n",
              "        }\n",
              "\n",
              "        /* Estilo para alternar cores das linhas */\n",
              "        tr:nth-child(even) {\n",
              "            background-color: #f2f2f2;\n",
              "            color: black;\n",
              "        }\n",
              "\n",
              "        /* Estilo para os cabeçalhos com cores diferentes */\n",
              "        th {\n",
              "            background-color: #f2f2f2;\n",
              "            color: black;\n",
              "        }\n",
              "\n",
              "        /* Estilo para as células da tabela */\n",
              "        td, th {\n",
              "            padding: 8px;\n",
              "            border: 1px solid #000;\n",
              "            text-align: left;\n",
              "        }\n",
              "        .green {\n",
              "            color: green;\n",
              "            font-weight: bold;\n",
              "        }\n",
              "        .red {\n",
              "            color: red;\n",
              "            font-weight: bold;\n",
              "        }\n",
              "        .justify {\n",
              "            align-items: center;\n",
              "            display: flex;\n",
              "        }\n",
              "        .justify i {\n",
              "            margin-left: 0.3rem;\n",
              "        }\n",
              "    </style>\n",
              "    <link\n",
              "            rel=\"stylesheet\"\n",
              "            href=\"https://fonts.googleapis.com/icon?family=Material+Icons\"\n",
              "    />\n",
              "</head>\n",
              "<body>\n",
              "<div style=\"text-align: center;\"><img src='https://php.locaweb.com.br/wp-content/themes/locaweb-php-community-2023/svg/logo.svg' alt='php-community-2023' /><div><br />\n",
              "    <table border=\"1\">\n",
              "        <tr>\n",
              "            <th>Idade</th>\n",
              "            <th>Estado</th>\n",
              "            <th>Cidade</th>\n",
              "            <th>Resultado</th>\n",
              "        </tr>\n",
              "\n",
              "        <!-- Exiba as previsões em uma tabela HTML -->\n",
              "                                <tr>\n",
              "                <td class=\"green\">30</td>\n",
              "                <td class=\"green\">SAO_PAULO</td>\n",
              "                <td class=\"green\">SAO_PAULO</td>\n",
              "                <td class=\"green\">\n",
              "                    <div class=\"justify\">\n",
              "                        Retornaria ao evento <i class=\"material-icons\">check</i>\n",
              "                    </div>\n",
              "                </td>\n",
              "            </tr>\n",
              "                                <tr>\n",
              "                <td class=\"red\">25</td>\n",
              "                <td class=\"red\">SAO_PAULO</td>\n",
              "                <td class=\"red\">SAO_PAULO</td>\n",
              "                <td class=\"red\">\n",
              "                    <div class=\"justify\">\n",
              "                        Não retornaria ao evento <i class=\"material-icons\">block</i>\n",
              "                    </div>\n",
              "                </td>\n",
              "            </tr>\n",
              "                                <tr>\n",
              "                <td class=\"green\">50</td>\n",
              "                <td class=\"green\">SAO_PAULO</td>\n",
              "                <td class=\"green\">SAO_PAULO</td>\n",
              "                <td class=\"green\">\n",
              "                    <div class=\"justify\">\n",
              "                        Retornaria ao evento <i class=\"material-icons\">check</i>\n",
              "                    </div>\n",
              "                </td>\n",
              "            </tr>\n",
              "                                <tr>\n",
              "                <td class=\"green\">40</td>\n",
              "                <td class=\"green\">SAO_PAULO</td>\n",
              "                <td class=\"green\">SAO_PAULO</td>\n",
              "                <td class=\"green\">\n",
              "                    <div class=\"justify\">\n",
              "                        Retornaria ao evento <i class=\"material-icons\">check</i>\n",
              "                    </div>\n",
              "                </td>\n",
              "            </tr>\n",
              "                                <tr>\n",
              "                <td class=\"green\">30</td>\n",
              "                <td class=\"green\">SAO_PAULO</td>\n",
              "                <td class=\"green\">SAO_PAULO</td>\n",
              "                <td class=\"green\">\n",
              "                    <div class=\"justify\">\n",
              "                        Retornaria ao evento <i class=\"material-icons\">check</i>\n",
              "                    </div>\n",
              "                </td>\n",
              "            </tr>\n",
              "                                <tr>\n",
              "                <td class=\"red\">20</td>\n",
              "                <td class=\"red\">SAO_PAULO</td>\n",
              "                <td class=\"red\">SAO_PAULO</td>\n",
              "                <td class=\"red\">\n",
              "                    <div class=\"justify\">\n",
              "                        Não retornaria ao evento <i class=\"material-icons\">block</i>\n",
              "                    </div>\n",
              "                </td>\n",
              "            </tr>\n",
              "                                <tr>\n",
              "                <td class=\"green\">30</td>\n",
              "                <td class=\"green\">SAO_PAULO</td>\n",
              "                <td class=\"green\">JUNDIAI</td>\n",
              "                <td class=\"green\">\n",
              "                    <div class=\"justify\">\n",
              "                        Retornaria ao evento <i class=\"material-icons\">check</i>\n",
              "                    </div>\n",
              "                </td>\n",
              "            </tr>\n",
              "            </table>\n",
              "    <!-- Resto do seu código HTML -->\n",
              "</body>\n",
              "</html>\n"
            ]
          },
          "metadata": {},
          "execution_count": 17
        }
      ]
    },
    {
      "cell_type": "code",
      "source": [
        "# @title Dados para o modelo\n",
        "\n",
        "idade = 25 # @param {type:\"integer\", min:10, max:120}\n",
        "estado = 'SÃO PAULO' # @param [\"SÃO PAULO\", \"MINAS GERAIS\", \"RIO JANEIRO\"]\n",
        "cidade = 'S\\xC3O PAULO' # @param [\"SÃO PAULO\", \"BELO HORIZONTE\", \"RIO JANEIRO\", \"JUNDIAÍ\"]\n",
        "\n",
        "# Dicionário de mapeamento de estados para valores inteiros\n",
        "estado_mapping = {\n",
        "    'SÃO PAULO': 1,\n",
        "    'MINAS GERAIS': 2,\n",
        "    'RIO JANEIRO': 3\n",
        "}\n",
        "\n",
        "cidade_mapping = {\n",
        "    'SÃO PAULO': 1,\n",
        "    'BELO HORIZONTE': 2,\n",
        "    'RIO JANEIRO': 3,\n",
        "    'JUNDIAÍ': 4\n",
        "}\n",
        "\n",
        "valor_estado = estado_mapping[estado]\n",
        "valor_cidade = cidade_mapping[cidade]\n",
        "\n",
        "dados_para_php = f\"{idade},{valor_estado},{valor_cidade}\"\n",
        "show_result('ComParametros.php', dados_para_php)"
      ],
      "metadata": {
        "colab": {
          "base_uri": "https://localhost:8080/",
          "height": 339
        },
        "id": "jxkbKhQitlx-",
        "outputId": "760e29a0-f80a-4623-f1a2-93e0b8b58849"
      },
      "execution_count": 18,
      "outputs": [
        {
          "output_type": "execute_result",
          "data": {
            "text/plain": [
              "<IPython.core.display.HTML object>"
            ],
            "text/html": [
              "\n",
              "<!DOCTYPE html>\n",
              "<html>\n",
              "<head>\n",
              "    <title>Resultados</title>\n",
              "    <style>\n",
              "        /* Estilo para tornar a tabela responsiva */\n",
              "        table {\n",
              "            width: 100%;\n",
              "            border-collapse: collapse;\n",
              "            border: 1px solid #000; /* Adicionar borda à tabela */\n",
              "        }\n",
              "\n",
              "        /* Estilo para alternar cores das linhas */\n",
              "        tr:nth-child(even) {\n",
              "            background-color: #f2f2f2;\n",
              "            color: black;\n",
              "        }\n",
              "\n",
              "        /* Estilo para os cabeçalhos com cores diferentes */\n",
              "        th {\n",
              "            background-color: #f2f2f2;\n",
              "            color: black;\n",
              "        }\n",
              "\n",
              "        /* Estilo para as células da tabela */\n",
              "        td, th {\n",
              "            padding: 8px;\n",
              "            border: 1px solid #000;\n",
              "            text-align: left;\n",
              "        }\n",
              "        .green {\n",
              "            color: green;\n",
              "            font-weight: bold;\n",
              "        }\n",
              "        .red {\n",
              "            color: red;\n",
              "            font-weight: bold;\n",
              "        }\n",
              "        .justify {\n",
              "            align-items: center;\n",
              "            display: flex;\n",
              "        }\n",
              "        .justify i {\n",
              "            margin-left: 0.3rem;\n",
              "        }\n",
              "    </style>\n",
              "    <link\n",
              "            rel=\"stylesheet\"\n",
              "            href=\"https://fonts.googleapis.com/icon?family=Material+Icons\"\n",
              "    />\n",
              "</head>\n",
              "<body>\n",
              "<div style=\"text-align: center;\"><img src='https://php.locaweb.com.br/wp-content/themes/locaweb-php-community-2023/svg/logo.svg' alt='php-community-2023' /><div><br />\n",
              "    <table border=\"1\">\n",
              "        <tr>\n",
              "            <th>Idade</th>\n",
              "            <th>Estado</th>\n",
              "            <th>Cidade</th>\n",
              "            <th>Resultado</th>\n",
              "        </tr>\n",
              "\n",
              "        <!-- Exiba as previsões em uma tabela HTML -->\n",
              "                                <tr>\n",
              "                <td class=\"red\">25</td>\n",
              "                <td class=\"red\">SAO_PAULO</td>\n",
              "                <td class=\"red\">SAO_PAULO</td>\n",
              "                <td class=\"red\">\n",
              "                    <div class=\"justify\">\n",
              "                        Não retornaria ao evento <i class=\"material-icons\">block</i>\n",
              "                    </div>\n",
              "                </td>\n",
              "            </tr>\n",
              "            </table>\n",
              "    <!-- Resto do seu código HTML -->\n",
              "</body>\n",
              "</html>\n"
            ]
          },
          "metadata": {},
          "execution_count": 18
        }
      ]
    }
  ]
}